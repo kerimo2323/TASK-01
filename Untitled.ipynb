{
 "cells": [
  {
   "cell_type": "markdown",
   "id": "87a15d49-8a89-42fd-a104-1422e81b14ab",
   "metadata": {},
   "source": [
    "# TASK 1"
   ]
  },
  {
   "cell_type": "markdown",
   "id": "792e37ca-97ac-45bb-9a21-3df27b7820d1",
   "metadata": {},
   "source": [
    "## Importing libraries"
   ]
  },
  {
   "cell_type": "code",
   "execution_count": 1,
   "id": "387772af-9c06-4ad8-af73-f00782b49211",
   "metadata": {},
   "outputs": [],
   "source": [
    "import pandas as pd\n",
    "import numpy as np\n",
    "import matplotlib.pyplot as plt\n",
    "import seaborn as sns"
   ]
  },
  {
   "cell_type": "code",
   "execution_count": 3,
   "id": "7b0bc303-7104-4072-bf47-25d3b9de0504",
   "metadata": {},
   "outputs": [
    {
     "data": {
      "text/plain": [
       "'C:\\\\Users\\\\k\\\\Desktop\\\\aa'"
      ]
     },
     "execution_count": 3,
     "metadata": {},
     "output_type": "execute_result"
    }
   ],
   "source": [
    "pwd"
   ]
  },
  {
   "cell_type": "markdown",
   "id": "97cef762-71a9-42d0-8fba-a9558918caed",
   "metadata": {},
   "source": [
    "## Reading Csv file"
   ]
  },
  {
   "cell_type": "code",
   "execution_count": 43,
   "id": "1b33103a-2898-4e4b-8847-16aeb30f318d",
   "metadata": {},
   "outputs": [],
   "source": [
    "df1=pd.read_csv(\"C:\\\\Users\\\\k\\\\Desktop\\\\aa\\\\data.csv\")"
   ]
  },
  {
   "cell_type": "code",
   "execution_count": 109,
   "id": "83823f68-c41c-4c39-a852-78e35cac1a01",
   "metadata": {},
   "outputs": [],
   "source": [
    "data = pd.read_csv(\"C:\\\\Users\\\\k\\\\Desktop\\\\aa\\\\data.csv\")"
   ]
  },
  {
   "cell_type": "markdown",
   "id": "784b6db7-5ef4-4842-9f68-6be9d736a3fb",
   "metadata": {},
   "source": [
    "## Data checking"
   ]
  },
  {
   "cell_type": "code",
   "execution_count": 111,
   "id": "c1703831-8190-4a12-ad80-bac7a017f8ae",
   "metadata": {},
   "outputs": [
    {
     "name": "stdout",
     "output_type": "stream",
     "text": [
      "                  Country Name Country Code Indicator Name Indicator Name.1  \\\n",
      "0                        Aruba          ABW     Population            total   \n",
      "1  Africa Eastern and Southern          AFE     Population            total   \n",
      "2                  Afghanistan          AFG     Population            total   \n",
      "3   Africa Western and Central          AFW     Population            total   \n",
      "4                       Angola          AGO     Population            total   \n",
      "\n",
      "          1960         1961         1962         1963         1964  \\\n",
      "0      54608.0      55811.0      56682.0      57475.0      58178.0   \n",
      "1  130692579.0  134169237.0  137835590.0  141630546.0  145605995.0   \n",
      "2    8622466.0    8790140.0    8969047.0    9157465.0    9355514.0   \n",
      "3   97256290.0   99314028.0  101445032.0  103667517.0  105959979.0   \n",
      "4    5357195.0    5441333.0    5521400.0    5599827.0    5673199.0   \n",
      "\n",
      "          1965  ...         2014         2015         2016         2017  \\\n",
      "0      58782.0  ...     103594.0     104257.0     104874.0     105439.0   \n",
      "1  149742351.0  ...  583651101.0  600008424.0  616377605.0  632746570.0   \n",
      "2    9565147.0  ...   32716210.0   33753499.0   34636207.0   35643418.0   \n",
      "3  108336203.0  ...  397855507.0  408690375.0  419778384.0  431138704.0   \n",
      "4    5736582.0  ...   27128337.0   28127721.0   29154746.0   30208628.0   \n",
      "\n",
      "          2018         2019         2020         2021         2022  \\\n",
      "0     105962.0     106442.0     106585.0     106537.0     106445.0   \n",
      "1  649757148.0  667242986.0  685112979.0  702977106.0  720859132.0   \n",
      "2   36686784.0   37769499.0   38972230.0   40099462.0   41128771.0   \n",
      "3  442646825.0  454306063.0  466189102.0  478185907.0  490330870.0   \n",
      "4   31273533.0   32353588.0   33428486.0   34503774.0   35588987.0   \n",
      "\n",
      "          2023  \n",
      "0     106277.0  \n",
      "1  739108306.0  \n",
      "2   42239854.0  \n",
      "3  502789511.0  \n",
      "4   36684202.0  \n",
      "\n",
      "[5 rows x 68 columns]\n",
      "<class 'pandas.core.frame.DataFrame'>\n",
      "RangeIndex: 266 entries, 0 to 265\n",
      "Data columns (total 68 columns):\n",
      " #   Column            Non-Null Count  Dtype  \n",
      "---  ------            --------------  -----  \n",
      " 0   Country Name      266 non-null    object \n",
      " 1   Country Code      266 non-null    object \n",
      " 2   Indicator Name    266 non-null    object \n",
      " 3   Indicator Name.1  266 non-null    object \n",
      " 4   1960              264 non-null    float64\n",
      " 5   1961              264 non-null    float64\n",
      " 6   1962              264 non-null    float64\n",
      " 7   1963              264 non-null    float64\n",
      " 8   1964              264 non-null    float64\n",
      " 9   1965              264 non-null    float64\n",
      " 10  1966              264 non-null    float64\n",
      " 11  1967              264 non-null    float64\n",
      " 12  1968              264 non-null    float64\n",
      " 13  1969              264 non-null    float64\n",
      " 14  1970              264 non-null    float64\n",
      " 15  1971              264 non-null    float64\n",
      " 16  1972              264 non-null    float64\n",
      " 17  1973              264 non-null    float64\n",
      " 18  1974              264 non-null    float64\n",
      " 19  1975              264 non-null    float64\n",
      " 20  1976              264 non-null    float64\n",
      " 21  1977              264 non-null    float64\n",
      " 22  1978              264 non-null    float64\n",
      " 23  1979              264 non-null    float64\n",
      " 24  1980              264 non-null    float64\n",
      " 25  1981              264 non-null    float64\n",
      " 26  1982              264 non-null    float64\n",
      " 27  1983              264 non-null    float64\n",
      " 28  1984              264 non-null    float64\n",
      " 29  1985              264 non-null    float64\n",
      " 30  1986              264 non-null    float64\n",
      " 31  1987              264 non-null    float64\n",
      " 32  1988              264 non-null    float64\n",
      " 33  1989              264 non-null    float64\n",
      " 34  1990              265 non-null    float64\n",
      " 35  1991              265 non-null    float64\n",
      " 36  1992              265 non-null    float64\n",
      " 37  1993              265 non-null    float64\n",
      " 38  1994              265 non-null    float64\n",
      " 39  1995              265 non-null    float64\n",
      " 40  1996              265 non-null    float64\n",
      " 41  1997              265 non-null    float64\n",
      " 42  1998              265 non-null    float64\n",
      " 43  1999              265 non-null    float64\n",
      " 44  2000              265 non-null    float64\n",
      " 45  2001              265 non-null    float64\n",
      " 46  2002              265 non-null    float64\n",
      " 47  2003              265 non-null    float64\n",
      " 48  2004              265 non-null    float64\n",
      " 49  2005              265 non-null    float64\n",
      " 50  2006              265 non-null    float64\n",
      " 51  2007              265 non-null    float64\n",
      " 52  2008              265 non-null    float64\n",
      " 53  2009              265 non-null    float64\n",
      " 54  2010              265 non-null    float64\n",
      " 55  2011              265 non-null    float64\n",
      " 56  2012              265 non-null    float64\n",
      " 57  2013              265 non-null    float64\n",
      " 58  2014              265 non-null    float64\n",
      " 59  2015              265 non-null    float64\n",
      " 60  2016              265 non-null    float64\n",
      " 61  2017              265 non-null    float64\n",
      " 62  2018              265 non-null    float64\n",
      " 63  2019              265 non-null    float64\n",
      " 64  2020              265 non-null    float64\n",
      " 65  2021              265 non-null    float64\n",
      " 66  2022              265 non-null    float64\n",
      " 67  2023              265 non-null    float64\n",
      "dtypes: float64(64), object(4)\n",
      "memory usage: 141.4+ KB\n",
      "None\n",
      "Country Name        0\n",
      "Country Code        0\n",
      "Indicator Name      0\n",
      "Indicator Name.1    0\n",
      "1960                2\n",
      "                   ..\n",
      "2019                1\n",
      "2020                1\n",
      "2021                1\n",
      "2022                1\n",
      "2023                1\n",
      "Length: 68, dtype: int64\n"
     ]
    }
   ],
   "source": [
    "print(data.head())\n",
    "print(data.info())\n",
    "print(data.isnull().sum())"
   ]
  },
  {
   "cell_type": "code",
   "execution_count": 49,
   "id": "c59abae7-683c-4784-a042-20ef5583837a",
   "metadata": {},
   "outputs": [],
   "source": [
    "data.columns = [col.strip().replace(' ', '_') for col in data.columns]"
   ]
  },
  {
   "cell_type": "code",
   "execution_count": 51,
   "id": "bedbe006-0c06-4745-b687-41e986dadf39",
   "metadata": {},
   "outputs": [],
   "source": [
    "data.fillna(data.mean(numeric_only=True), inplace=True)"
   ]
  },
  {
   "cell_type": "code",
   "execution_count": 53,
   "id": "9c573d36-ba9f-4af7-aa33-04815e4d5f3e",
   "metadata": {},
   "outputs": [],
   "source": [
    "data.drop_duplicates(inplace=True)"
   ]
  },
  {
   "cell_type": "code",
   "execution_count": 55,
   "id": "13a07ac6-be73-4913-9425-8d75309e9637",
   "metadata": {},
   "outputs": [],
   "source": [
    "data['Country_Name'] = data['Country_Name'].str.strip().str.title()"
   ]
  },
  {
   "cell_type": "code",
   "execution_count": 131,
   "id": "d9851e0f-d7d7-4ad3-9a43-f3cc0d7b809b",
   "metadata": {},
   "outputs": [],
   "source": [
    "df=pd.read_csv(\"C:\\\\Users\\\\k\\\\Desktop\\\\aa\\\\data.csv\")"
   ]
  },
  {
   "cell_type": "code",
   "execution_count": 133,
   "id": "71fd16e6-3c27-4a5f-ac05-eaaa61f770e5",
   "metadata": {},
   "outputs": [
    {
     "data": {
      "text/html": [
       "<div>\n",
       "<style scoped>\n",
       "    .dataframe tbody tr th:only-of-type {\n",
       "        vertical-align: middle;\n",
       "    }\n",
       "\n",
       "    .dataframe tbody tr th {\n",
       "        vertical-align: top;\n",
       "    }\n",
       "\n",
       "    .dataframe thead th {\n",
       "        text-align: right;\n",
       "    }\n",
       "</style>\n",
       "<table border=\"1\" class=\"dataframe\">\n",
       "  <thead>\n",
       "    <tr style=\"text-align: right;\">\n",
       "      <th></th>\n",
       "      <th>Country Name</th>\n",
       "      <th>Country Code</th>\n",
       "      <th>Indicator Name</th>\n",
       "      <th>Indicator Code</th>\n",
       "      <th>1960</th>\n",
       "      <th>1961</th>\n",
       "      <th>1962</th>\n",
       "      <th>1963</th>\n",
       "      <th>1964</th>\n",
       "      <th>1965</th>\n",
       "      <th>...</th>\n",
       "      <th>2014</th>\n",
       "      <th>2015</th>\n",
       "      <th>2016</th>\n",
       "      <th>2017</th>\n",
       "      <th>2018</th>\n",
       "      <th>2019</th>\n",
       "      <th>2020</th>\n",
       "      <th>2021</th>\n",
       "      <th>2022</th>\n",
       "      <th>2023</th>\n",
       "    </tr>\n",
       "  </thead>\n",
       "  <tbody>\n",
       "    <tr>\n",
       "      <th>0</th>\n",
       "      <td>Aruba</td>\n",
       "      <td>ABW</td>\n",
       "      <td>Population, total</td>\n",
       "      <td>SP.POP.TOTL</td>\n",
       "      <td>54608.0</td>\n",
       "      <td>55811.0</td>\n",
       "      <td>56682.0</td>\n",
       "      <td>57475.0</td>\n",
       "      <td>58178.0</td>\n",
       "      <td>58782.0</td>\n",
       "      <td>...</td>\n",
       "      <td>103594.0</td>\n",
       "      <td>104257.0</td>\n",
       "      <td>104874.0</td>\n",
       "      <td>105439.0</td>\n",
       "      <td>105962.0</td>\n",
       "      <td>106442.0</td>\n",
       "      <td>106585.0</td>\n",
       "      <td>106537.0</td>\n",
       "      <td>106445.0</td>\n",
       "      <td>106277.0</td>\n",
       "    </tr>\n",
       "    <tr>\n",
       "      <th>1</th>\n",
       "      <td>Africa Eastern and Southern</td>\n",
       "      <td>AFE</td>\n",
       "      <td>Population, total</td>\n",
       "      <td>SP.POP.TOTL</td>\n",
       "      <td>130692579.0</td>\n",
       "      <td>134169237.0</td>\n",
       "      <td>137835590.0</td>\n",
       "      <td>141630546.0</td>\n",
       "      <td>145605995.0</td>\n",
       "      <td>149742351.0</td>\n",
       "      <td>...</td>\n",
       "      <td>583651101.0</td>\n",
       "      <td>600008424.0</td>\n",
       "      <td>616377605.0</td>\n",
       "      <td>632746570.0</td>\n",
       "      <td>649757148.0</td>\n",
       "      <td>667242986.0</td>\n",
       "      <td>685112979.0</td>\n",
       "      <td>702977106.0</td>\n",
       "      <td>720859132.0</td>\n",
       "      <td>739108306.0</td>\n",
       "    </tr>\n",
       "    <tr>\n",
       "      <th>2</th>\n",
       "      <td>Afghanistan</td>\n",
       "      <td>AFG</td>\n",
       "      <td>Population, total</td>\n",
       "      <td>SP.POP.TOTL</td>\n",
       "      <td>8622466.0</td>\n",
       "      <td>8790140.0</td>\n",
       "      <td>8969047.0</td>\n",
       "      <td>9157465.0</td>\n",
       "      <td>9355514.0</td>\n",
       "      <td>9565147.0</td>\n",
       "      <td>...</td>\n",
       "      <td>32716210.0</td>\n",
       "      <td>33753499.0</td>\n",
       "      <td>34636207.0</td>\n",
       "      <td>35643418.0</td>\n",
       "      <td>36686784.0</td>\n",
       "      <td>37769499.0</td>\n",
       "      <td>38972230.0</td>\n",
       "      <td>40099462.0</td>\n",
       "      <td>41128771.0</td>\n",
       "      <td>42239854.0</td>\n",
       "    </tr>\n",
       "    <tr>\n",
       "      <th>3</th>\n",
       "      <td>Africa Western and Central</td>\n",
       "      <td>AFW</td>\n",
       "      <td>Population, total</td>\n",
       "      <td>SP.POP.TOTL</td>\n",
       "      <td>97256290.0</td>\n",
       "      <td>99314028.0</td>\n",
       "      <td>101445032.0</td>\n",
       "      <td>103667517.0</td>\n",
       "      <td>105959979.0</td>\n",
       "      <td>108336203.0</td>\n",
       "      <td>...</td>\n",
       "      <td>397855507.0</td>\n",
       "      <td>408690375.0</td>\n",
       "      <td>419778384.0</td>\n",
       "      <td>431138704.0</td>\n",
       "      <td>442646825.0</td>\n",
       "      <td>454306063.0</td>\n",
       "      <td>466189102.0</td>\n",
       "      <td>478185907.0</td>\n",
       "      <td>490330870.0</td>\n",
       "      <td>502789511.0</td>\n",
       "    </tr>\n",
       "    <tr>\n",
       "      <th>4</th>\n",
       "      <td>Angola</td>\n",
       "      <td>AGO</td>\n",
       "      <td>Population, total</td>\n",
       "      <td>SP.POP.TOTL</td>\n",
       "      <td>5357195.0</td>\n",
       "      <td>5441333.0</td>\n",
       "      <td>5521400.0</td>\n",
       "      <td>5599827.0</td>\n",
       "      <td>5673199.0</td>\n",
       "      <td>5736582.0</td>\n",
       "      <td>...</td>\n",
       "      <td>27128337.0</td>\n",
       "      <td>28127721.0</td>\n",
       "      <td>29154746.0</td>\n",
       "      <td>30208628.0</td>\n",
       "      <td>31273533.0</td>\n",
       "      <td>32353588.0</td>\n",
       "      <td>33428486.0</td>\n",
       "      <td>34503774.0</td>\n",
       "      <td>35588987.0</td>\n",
       "      <td>36684202.0</td>\n",
       "    </tr>\n",
       "  </tbody>\n",
       "</table>\n",
       "<p>5 rows × 68 columns</p>\n",
       "</div>"
      ],
      "text/plain": [
       "                  Country Name Country Code     Indicator Name Indicator Code  \\\n",
       "0                        Aruba          ABW  Population, total    SP.POP.TOTL   \n",
       "1  Africa Eastern and Southern          AFE  Population, total    SP.POP.TOTL   \n",
       "2                  Afghanistan          AFG  Population, total    SP.POP.TOTL   \n",
       "3   Africa Western and Central          AFW  Population, total    SP.POP.TOTL   \n",
       "4                       Angola          AGO  Population, total    SP.POP.TOTL   \n",
       "\n",
       "          1960         1961         1962         1963         1964  \\\n",
       "0      54608.0      55811.0      56682.0      57475.0      58178.0   \n",
       "1  130692579.0  134169237.0  137835590.0  141630546.0  145605995.0   \n",
       "2    8622466.0    8790140.0    8969047.0    9157465.0    9355514.0   \n",
       "3   97256290.0   99314028.0  101445032.0  103667517.0  105959979.0   \n",
       "4    5357195.0    5441333.0    5521400.0    5599827.0    5673199.0   \n",
       "\n",
       "          1965  ...         2014         2015         2016         2017  \\\n",
       "0      58782.0  ...     103594.0     104257.0     104874.0     105439.0   \n",
       "1  149742351.0  ...  583651101.0  600008424.0  616377605.0  632746570.0   \n",
       "2    9565147.0  ...   32716210.0   33753499.0   34636207.0   35643418.0   \n",
       "3  108336203.0  ...  397855507.0  408690375.0  419778384.0  431138704.0   \n",
       "4    5736582.0  ...   27128337.0   28127721.0   29154746.0   30208628.0   \n",
       "\n",
       "          2018         2019         2020         2021         2022  \\\n",
       "0     105962.0     106442.0     106585.0     106537.0     106445.0   \n",
       "1  649757148.0  667242986.0  685112979.0  702977106.0  720859132.0   \n",
       "2   36686784.0   37769499.0   38972230.0   40099462.0   41128771.0   \n",
       "3  442646825.0  454306063.0  466189102.0  478185907.0  490330870.0   \n",
       "4   31273533.0   32353588.0   33428486.0   34503774.0   35588987.0   \n",
       "\n",
       "          2023  \n",
       "0     106277.0  \n",
       "1  739108306.0  \n",
       "2   42239854.0  \n",
       "3  502789511.0  \n",
       "4   36684202.0  \n",
       "\n",
       "[5 rows x 68 columns]"
      ]
     },
     "execution_count": 133,
     "metadata": {},
     "output_type": "execute_result"
    }
   ],
   "source": [
    "df.head(5)"
   ]
  },
  {
   "cell_type": "code",
   "execution_count": 135,
   "id": "fe308a46-71b8-4477-b601-e26ec831d86c",
   "metadata": {},
   "outputs": [
    {
     "data": {
      "text/html": [
       "<div>\n",
       "<style scoped>\n",
       "    .dataframe tbody tr th:only-of-type {\n",
       "        vertical-align: middle;\n",
       "    }\n",
       "\n",
       "    .dataframe tbody tr th {\n",
       "        vertical-align: top;\n",
       "    }\n",
       "\n",
       "    .dataframe thead th {\n",
       "        text-align: right;\n",
       "    }\n",
       "</style>\n",
       "<table border=\"1\" class=\"dataframe\">\n",
       "  <thead>\n",
       "    <tr style=\"text-align: right;\">\n",
       "      <th></th>\n",
       "      <th>Country Name</th>\n",
       "      <th>Country Code</th>\n",
       "      <th>Indicator Name</th>\n",
       "      <th>Indicator Code</th>\n",
       "      <th>1960</th>\n",
       "      <th>1961</th>\n",
       "      <th>1962</th>\n",
       "      <th>1963</th>\n",
       "      <th>1964</th>\n",
       "      <th>1965</th>\n",
       "      <th>...</th>\n",
       "      <th>2014</th>\n",
       "      <th>2015</th>\n",
       "      <th>2016</th>\n",
       "      <th>2017</th>\n",
       "      <th>2018</th>\n",
       "      <th>2019</th>\n",
       "      <th>2020</th>\n",
       "      <th>2021</th>\n",
       "      <th>2022</th>\n",
       "      <th>2023</th>\n",
       "    </tr>\n",
       "  </thead>\n",
       "  <tbody>\n",
       "    <tr>\n",
       "      <th>261</th>\n",
       "      <td>Kosovo</td>\n",
       "      <td>XKX</td>\n",
       "      <td>Population, total</td>\n",
       "      <td>SP.POP.TOTL</td>\n",
       "      <td>990150.0</td>\n",
       "      <td>1014211.0</td>\n",
       "      <td>1038618.0</td>\n",
       "      <td>1063175.0</td>\n",
       "      <td>1087700.0</td>\n",
       "      <td>1111812.0</td>\n",
       "      <td>...</td>\n",
       "      <td>1812771.0</td>\n",
       "      <td>1788196.0</td>\n",
       "      <td>1777557.0</td>\n",
       "      <td>1791003.0</td>\n",
       "      <td>1797085.0</td>\n",
       "      <td>1788878.0</td>\n",
       "      <td>1790133.0</td>\n",
       "      <td>1786038.0</td>\n",
       "      <td>1768086.0</td>\n",
       "      <td>1756374.0</td>\n",
       "    </tr>\n",
       "    <tr>\n",
       "      <th>262</th>\n",
       "      <td>Yemen, Rep.</td>\n",
       "      <td>YEM</td>\n",
       "      <td>Population, total</td>\n",
       "      <td>SP.POP.TOTL</td>\n",
       "      <td>5542459.0</td>\n",
       "      <td>5646668.0</td>\n",
       "      <td>5753386.0</td>\n",
       "      <td>5860197.0</td>\n",
       "      <td>5973803.0</td>\n",
       "      <td>6097298.0</td>\n",
       "      <td>...</td>\n",
       "      <td>27753304.0</td>\n",
       "      <td>28516545.0</td>\n",
       "      <td>29274002.0</td>\n",
       "      <td>30034389.0</td>\n",
       "      <td>30790513.0</td>\n",
       "      <td>31546691.0</td>\n",
       "      <td>32284046.0</td>\n",
       "      <td>32981641.0</td>\n",
       "      <td>33696614.0</td>\n",
       "      <td>34449825.0</td>\n",
       "    </tr>\n",
       "    <tr>\n",
       "      <th>263</th>\n",
       "      <td>South Africa</td>\n",
       "      <td>ZAF</td>\n",
       "      <td>Population, total</td>\n",
       "      <td>SP.POP.TOTL</td>\n",
       "      <td>16520441.0</td>\n",
       "      <td>16989464.0</td>\n",
       "      <td>17503133.0</td>\n",
       "      <td>18042215.0</td>\n",
       "      <td>18603097.0</td>\n",
       "      <td>19187194.0</td>\n",
       "      <td>...</td>\n",
       "      <td>54729551.0</td>\n",
       "      <td>55876504.0</td>\n",
       "      <td>56422274.0</td>\n",
       "      <td>56641209.0</td>\n",
       "      <td>57339635.0</td>\n",
       "      <td>58087055.0</td>\n",
       "      <td>58801927.0</td>\n",
       "      <td>59392255.0</td>\n",
       "      <td>59893885.0</td>\n",
       "      <td>60414495.0</td>\n",
       "    </tr>\n",
       "    <tr>\n",
       "      <th>264</th>\n",
       "      <td>Zambia</td>\n",
       "      <td>ZMB</td>\n",
       "      <td>Population, total</td>\n",
       "      <td>SP.POP.TOTL</td>\n",
       "      <td>3119430.0</td>\n",
       "      <td>3219451.0</td>\n",
       "      <td>3323427.0</td>\n",
       "      <td>3431381.0</td>\n",
       "      <td>3542764.0</td>\n",
       "      <td>3658024.0</td>\n",
       "      <td>...</td>\n",
       "      <td>15737793.0</td>\n",
       "      <td>16248230.0</td>\n",
       "      <td>16767761.0</td>\n",
       "      <td>17298054.0</td>\n",
       "      <td>17835893.0</td>\n",
       "      <td>18380477.0</td>\n",
       "      <td>18927715.0</td>\n",
       "      <td>19473125.0</td>\n",
       "      <td>20017675.0</td>\n",
       "      <td>20569737.0</td>\n",
       "    </tr>\n",
       "    <tr>\n",
       "      <th>265</th>\n",
       "      <td>Zimbabwe</td>\n",
       "      <td>ZWE</td>\n",
       "      <td>Population, total</td>\n",
       "      <td>SP.POP.TOTL</td>\n",
       "      <td>3806310.0</td>\n",
       "      <td>3925952.0</td>\n",
       "      <td>4049778.0</td>\n",
       "      <td>4177931.0</td>\n",
       "      <td>4310332.0</td>\n",
       "      <td>4447149.0</td>\n",
       "      <td>...</td>\n",
       "      <td>13855753.0</td>\n",
       "      <td>14154937.0</td>\n",
       "      <td>14452704.0</td>\n",
       "      <td>14751101.0</td>\n",
       "      <td>15052184.0</td>\n",
       "      <td>15354608.0</td>\n",
       "      <td>15669666.0</td>\n",
       "      <td>15993524.0</td>\n",
       "      <td>16320537.0</td>\n",
       "      <td>16665409.0</td>\n",
       "    </tr>\n",
       "  </tbody>\n",
       "</table>\n",
       "<p>5 rows × 68 columns</p>\n",
       "</div>"
      ],
      "text/plain": [
       "     Country Name Country Code     Indicator Name Indicator Code        1960  \\\n",
       "261        Kosovo          XKX  Population, total    SP.POP.TOTL    990150.0   \n",
       "262   Yemen, Rep.          YEM  Population, total    SP.POP.TOTL   5542459.0   \n",
       "263  South Africa          ZAF  Population, total    SP.POP.TOTL  16520441.0   \n",
       "264        Zambia          ZMB  Population, total    SP.POP.TOTL   3119430.0   \n",
       "265      Zimbabwe          ZWE  Population, total    SP.POP.TOTL   3806310.0   \n",
       "\n",
       "           1961        1962        1963        1964        1965  ...  \\\n",
       "261   1014211.0   1038618.0   1063175.0   1087700.0   1111812.0  ...   \n",
       "262   5646668.0   5753386.0   5860197.0   5973803.0   6097298.0  ...   \n",
       "263  16989464.0  17503133.0  18042215.0  18603097.0  19187194.0  ...   \n",
       "264   3219451.0   3323427.0   3431381.0   3542764.0   3658024.0  ...   \n",
       "265   3925952.0   4049778.0   4177931.0   4310332.0   4447149.0  ...   \n",
       "\n",
       "           2014        2015        2016        2017        2018        2019  \\\n",
       "261   1812771.0   1788196.0   1777557.0   1791003.0   1797085.0   1788878.0   \n",
       "262  27753304.0  28516545.0  29274002.0  30034389.0  30790513.0  31546691.0   \n",
       "263  54729551.0  55876504.0  56422274.0  56641209.0  57339635.0  58087055.0   \n",
       "264  15737793.0  16248230.0  16767761.0  17298054.0  17835893.0  18380477.0   \n",
       "265  13855753.0  14154937.0  14452704.0  14751101.0  15052184.0  15354608.0   \n",
       "\n",
       "           2020        2021        2022        2023  \n",
       "261   1790133.0   1786038.0   1768086.0   1756374.0  \n",
       "262  32284046.0  32981641.0  33696614.0  34449825.0  \n",
       "263  58801927.0  59392255.0  59893885.0  60414495.0  \n",
       "264  18927715.0  19473125.0  20017675.0  20569737.0  \n",
       "265  15669666.0  15993524.0  16320537.0  16665409.0  \n",
       "\n",
       "[5 rows x 68 columns]"
      ]
     },
     "execution_count": 135,
     "metadata": {},
     "output_type": "execute_result"
    }
   ],
   "source": [
    "df.tail(5)"
   ]
  },
  {
   "cell_type": "code",
   "execution_count": 137,
   "id": "b297dc71-cd4b-4b05-bd10-69e1d97fb45f",
   "metadata": {},
   "outputs": [
    {
     "data": {
      "text/plain": [
       "Index(['Country Name', 'Country Code', 'Indicator Name', 'Indicator Code',\n",
       "       '1960', '1961', '1962', '1963', '1964', '1965', '1966', '1967', '1968',\n",
       "       '1969', '1970', '1971', '1972', '1973', '1974', '1975', '1976', '1977',\n",
       "       '1978', '1979', '1980', '1981', '1982', '1983', '1984', '1985', '1986',\n",
       "       '1987', '1988', '1989', '1990', '1991', '1992', '1993', '1994', '1995',\n",
       "       '1996', '1997', '1998', '1999', '2000', '2001', '2002', '2003', '2004',\n",
       "       '2005', '2006', '2007', '2008', '2009', '2010', '2011', '2012', '2013',\n",
       "       '2014', '2015', '2016', '2017', '2018', '2019', '2020', '2021', '2022',\n",
       "       '2023'],\n",
       "      dtype='object')"
      ]
     },
     "execution_count": 137,
     "metadata": {},
     "output_type": "execute_result"
    }
   ],
   "source": [
    "df.columns"
   ]
  },
  {
   "cell_type": "code",
   "execution_count": 155,
   "id": "c5106923-4123-48f1-8aa3-83e1d5c6a7d1",
   "metadata": {},
   "outputs": [
    {
     "name": "stdout",
     "output_type": "stream",
     "text": [
      "<class 'pandas.core.frame.DataFrame'>\n",
      "RangeIndex: 266 entries, 0 to 265\n",
      "Data columns (total 68 columns):\n",
      " #   Column          Non-Null Count  Dtype  \n",
      "---  ------          --------------  -----  \n",
      " 0   Country Name    266 non-null    object \n",
      " 1   Country Code    266 non-null    object \n",
      " 2   Indicator Name  266 non-null    object \n",
      " 3   Indicator Code  266 non-null    object \n",
      " 4   1960            266 non-null    float64\n",
      " 5   1961            266 non-null    float64\n",
      " 6   1962            266 non-null    float64\n",
      " 7   1963            266 non-null    float64\n",
      " 8   1964            266 non-null    float64\n",
      " 9   1965            266 non-null    float64\n",
      " 10  1966            266 non-null    float64\n",
      " 11  1967            266 non-null    float64\n",
      " 12  1968            266 non-null    float64\n",
      " 13  1969            266 non-null    float64\n",
      " 14  1970            266 non-null    float64\n",
      " 15  1971            266 non-null    float64\n",
      " 16  1972            266 non-null    float64\n",
      " 17  1973            266 non-null    float64\n",
      " 18  1974            266 non-null    float64\n",
      " 19  1975            266 non-null    float64\n",
      " 20  1976            266 non-null    float64\n",
      " 21  1977            266 non-null    float64\n",
      " 22  1978            266 non-null    float64\n",
      " 23  1979            266 non-null    float64\n",
      " 24  1980            266 non-null    float64\n",
      " 25  1981            266 non-null    float64\n",
      " 26  1982            266 non-null    float64\n",
      " 27  1983            266 non-null    float64\n",
      " 28  1984            266 non-null    float64\n",
      " 29  1985            266 non-null    float64\n",
      " 30  1986            266 non-null    float64\n",
      " 31  1987            266 non-null    float64\n",
      " 32  1988            266 non-null    float64\n",
      " 33  1989            266 non-null    float64\n",
      " 34  1990            266 non-null    float64\n",
      " 35  1991            266 non-null    float64\n",
      " 36  1992            266 non-null    float64\n",
      " 37  1993            266 non-null    float64\n",
      " 38  1994            266 non-null    float64\n",
      " 39  1995            266 non-null    float64\n",
      " 40  1996            266 non-null    float64\n",
      " 41  1997            266 non-null    float64\n",
      " 42  1998            266 non-null    float64\n",
      " 43  1999            266 non-null    float64\n",
      " 44  2000            266 non-null    float64\n",
      " 45  2001            266 non-null    float64\n",
      " 46  2002            266 non-null    float64\n",
      " 47  2003            266 non-null    float64\n",
      " 48  2004            266 non-null    float64\n",
      " 49  2005            266 non-null    float64\n",
      " 50  2006            266 non-null    float64\n",
      " 51  2007            266 non-null    float64\n",
      " 52  2008            266 non-null    float64\n",
      " 53  2009            266 non-null    float64\n",
      " 54  2010            266 non-null    float64\n",
      " 55  2011            266 non-null    float64\n",
      " 56  2012            266 non-null    float64\n",
      " 57  2013            266 non-null    float64\n",
      " 58  2014            266 non-null    float64\n",
      " 59  2015            266 non-null    float64\n",
      " 60  2016            266 non-null    float64\n",
      " 61  2017            266 non-null    float64\n",
      " 62  2018            266 non-null    float64\n",
      " 63  2019            266 non-null    float64\n",
      " 64  2020            266 non-null    float64\n",
      " 65  2021            266 non-null    float64\n",
      " 66  2022            266 non-null    float64\n",
      " 67  2023            266 non-null    float64\n",
      "dtypes: float64(64), object(4)\n",
      "memory usage: 141.4+ KB\n"
     ]
    }
   ],
   "source": [
    "df.info()"
   ]
  },
  {
   "cell_type": "markdown",
   "id": "fe02c35c-fd78-48a1-a6ca-1fd55c185234",
   "metadata": {},
   "source": [
    "## Checking for duplicates values"
   ]
  },
  {
   "cell_type": "code",
   "execution_count": 157,
   "id": "583fb827-2e0b-412e-8782-f8fa7714ed73",
   "metadata": {},
   "outputs": [
    {
     "data": {
      "text/plain": [
       "0"
      ]
     },
     "execution_count": 157,
     "metadata": {},
     "output_type": "execute_result"
    }
   ],
   "source": [
    "df.duplicated().sum()"
   ]
  },
  {
   "cell_type": "code",
   "execution_count": 244,
   "id": "e72e5280-1ff0-4094-aebf-a06939c7331b",
   "metadata": {},
   "outputs": [
    {
     "data": {
      "text/html": [
       "<div>\n",
       "<style scoped>\n",
       "    .dataframe tbody tr th:only-of-type {\n",
       "        vertical-align: middle;\n",
       "    }\n",
       "\n",
       "    .dataframe tbody tr th {\n",
       "        vertical-align: top;\n",
       "    }\n",
       "\n",
       "    .dataframe thead th {\n",
       "        text-align: right;\n",
       "    }\n",
       "</style>\n",
       "<table border=\"1\" class=\"dataframe\">\n",
       "  <thead>\n",
       "    <tr style=\"text-align: right;\">\n",
       "      <th></th>\n",
       "      <th>1960</th>\n",
       "      <th>1961</th>\n",
       "      <th>1962</th>\n",
       "      <th>1963</th>\n",
       "      <th>1964</th>\n",
       "      <th>1965</th>\n",
       "      <th>1966</th>\n",
       "      <th>1967</th>\n",
       "      <th>1968</th>\n",
       "      <th>1969</th>\n",
       "      <th>...</th>\n",
       "      <th>2014</th>\n",
       "      <th>2015</th>\n",
       "      <th>2016</th>\n",
       "      <th>2017</th>\n",
       "      <th>2018</th>\n",
       "      <th>2019</th>\n",
       "      <th>2020</th>\n",
       "      <th>2021</th>\n",
       "      <th>2022</th>\n",
       "      <th>2023</th>\n",
       "    </tr>\n",
       "  </thead>\n",
       "  <tbody>\n",
       "    <tr>\n",
       "      <th>count</th>\n",
       "      <td>2.660000e+02</td>\n",
       "      <td>2.660000e+02</td>\n",
       "      <td>2.660000e+02</td>\n",
       "      <td>2.660000e+02</td>\n",
       "      <td>2.660000e+02</td>\n",
       "      <td>2.660000e+02</td>\n",
       "      <td>2.660000e+02</td>\n",
       "      <td>2.660000e+02</td>\n",
       "      <td>2.660000e+02</td>\n",
       "      <td>2.660000e+02</td>\n",
       "      <td>...</td>\n",
       "      <td>2.660000e+02</td>\n",
       "      <td>2.660000e+02</td>\n",
       "      <td>2.660000e+02</td>\n",
       "      <td>2.660000e+02</td>\n",
       "      <td>2.660000e+02</td>\n",
       "      <td>2.660000e+02</td>\n",
       "      <td>2.660000e+02</td>\n",
       "      <td>2.660000e+02</td>\n",
       "      <td>2.660000e+02</td>\n",
       "      <td>2.660000e+02</td>\n",
       "    </tr>\n",
       "    <tr>\n",
       "      <th>mean</th>\n",
       "      <td>1.157939e+08</td>\n",
       "      <td>1.173869e+08</td>\n",
       "      <td>1.195401e+08</td>\n",
       "      <td>1.222050e+08</td>\n",
       "      <td>1.248922e+08</td>\n",
       "      <td>1.276182e+08</td>\n",
       "      <td>1.304676e+08</td>\n",
       "      <td>1.333152e+08</td>\n",
       "      <td>1.362430e+08</td>\n",
       "      <td>1.392759e+08</td>\n",
       "      <td>...</td>\n",
       "      <td>2.948007e+08</td>\n",
       "      <td>2.986442e+08</td>\n",
       "      <td>3.024871e+08</td>\n",
       "      <td>3.063370e+08</td>\n",
       "      <td>3.101259e+08</td>\n",
       "      <td>3.138348e+08</td>\n",
       "      <td>3.174293e+08</td>\n",
       "      <td>3.206783e+08</td>\n",
       "      <td>3.236218e+08</td>\n",
       "      <td>3.269710e+08</td>\n",
       "    </tr>\n",
       "    <tr>\n",
       "      <th>std</th>\n",
       "      <td>3.626158e+08</td>\n",
       "      <td>3.670741e+08</td>\n",
       "      <td>3.736867e+08</td>\n",
       "      <td>3.822667e+08</td>\n",
       "      <td>3.908879e+08</td>\n",
       "      <td>3.996389e+08</td>\n",
       "      <td>4.088811e+08</td>\n",
       "      <td>4.180804e+08</td>\n",
       "      <td>4.275652e+08</td>\n",
       "      <td>4.374397e+08</td>\n",
       "      <td>...</td>\n",
       "      <td>9.206794e+08</td>\n",
       "      <td>9.318842e+08</td>\n",
       "      <td>9.430238e+08</td>\n",
       "      <td>9.541749e+08</td>\n",
       "      <td>9.650391e+08</td>\n",
       "      <td>9.755744e+08</td>\n",
       "      <td>9.856487e+08</td>\n",
       "      <td>9.946862e+08</td>\n",
       "      <td>1.002577e+09</td>\n",
       "      <td>1.011555e+09</td>\n",
       "    </tr>\n",
       "    <tr>\n",
       "      <th>min</th>\n",
       "      <td>2.646000e+03</td>\n",
       "      <td>2.888000e+03</td>\n",
       "      <td>3.171000e+03</td>\n",
       "      <td>3.481000e+03</td>\n",
       "      <td>3.811000e+03</td>\n",
       "      <td>4.161000e+03</td>\n",
       "      <td>4.531000e+03</td>\n",
       "      <td>4.930000e+03</td>\n",
       "      <td>5.354000e+03</td>\n",
       "      <td>5.646000e+03</td>\n",
       "      <td>...</td>\n",
       "      <td>1.089900e+04</td>\n",
       "      <td>1.087700e+04</td>\n",
       "      <td>1.085200e+04</td>\n",
       "      <td>1.082800e+04</td>\n",
       "      <td>1.086500e+04</td>\n",
       "      <td>1.095600e+04</td>\n",
       "      <td>1.106900e+04</td>\n",
       "      <td>1.120400e+04</td>\n",
       "      <td>1.131200e+04</td>\n",
       "      <td>1.139600e+04</td>\n",
       "    </tr>\n",
       "    <tr>\n",
       "      <th>25%</th>\n",
       "      <td>5.191432e+05</td>\n",
       "      <td>5.299130e+05</td>\n",
       "      <td>5.416058e+05</td>\n",
       "      <td>5.539315e+05</td>\n",
       "      <td>5.669115e+05</td>\n",
       "      <td>5.726408e+05</td>\n",
       "      <td>5.714950e+05</td>\n",
       "      <td>5.893528e+05</td>\n",
       "      <td>5.957192e+05</td>\n",
       "      <td>6.001152e+05</td>\n",
       "      <td>...</td>\n",
       "      <td>1.760674e+06</td>\n",
       "      <td>1.788377e+06</td>\n",
       "      <td>1.791806e+06</td>\n",
       "      <td>1.813209e+06</td>\n",
       "      <td>1.820076e+06</td>\n",
       "      <td>1.810724e+06</td>\n",
       "      <td>1.806631e+06</td>\n",
       "      <td>1.798807e+06</td>\n",
       "      <td>1.783992e+06</td>\n",
       "      <td>1.770276e+06</td>\n",
       "    </tr>\n",
       "    <tr>\n",
       "      <th>50%</th>\n",
       "      <td>3.757486e+06</td>\n",
       "      <td>3.887144e+06</td>\n",
       "      <td>4.023896e+06</td>\n",
       "      <td>4.139356e+06</td>\n",
       "      <td>4.224612e+06</td>\n",
       "      <td>4.277636e+06</td>\n",
       "      <td>4.331825e+06</td>\n",
       "      <td>4.385700e+06</td>\n",
       "      <td>4.450934e+06</td>\n",
       "      <td>4.530800e+06</td>\n",
       "      <td>...</td>\n",
       "      <td>1.034159e+07</td>\n",
       "      <td>1.038195e+07</td>\n",
       "      <td>1.042652e+07</td>\n",
       "      <td>1.044737e+07</td>\n",
       "      <td>1.042760e+07</td>\n",
       "      <td>1.055977e+07</td>\n",
       "      <td>1.065204e+07</td>\n",
       "      <td>1.053749e+07</td>\n",
       "      <td>1.057953e+07</td>\n",
       "      <td>1.073374e+07</td>\n",
       "    </tr>\n",
       "    <tr>\n",
       "      <th>75%</th>\n",
       "      <td>2.739186e+07</td>\n",
       "      <td>2.812822e+07</td>\n",
       "      <td>2.889649e+07</td>\n",
       "      <td>2.968239e+07</td>\n",
       "      <td>3.046628e+07</td>\n",
       "      <td>3.126597e+07</td>\n",
       "      <td>3.183307e+07</td>\n",
       "      <td>3.261431e+07</td>\n",
       "      <td>3.318176e+07</td>\n",
       "      <td>3.385723e+07</td>\n",
       "      <td>...</td>\n",
       "      <td>6.364901e+07</td>\n",
       "      <td>6.401981e+07</td>\n",
       "      <td>6.436557e+07</td>\n",
       "      <td>6.467832e+07</td>\n",
       "      <td>6.495070e+07</td>\n",
       "      <td>6.509539e+07</td>\n",
       "      <td>6.573706e+07</td>\n",
       "      <td>6.616680e+07</td>\n",
       "      <td>6.721769e+07</td>\n",
       "      <td>6.798720e+07</td>\n",
       "    </tr>\n",
       "    <tr>\n",
       "      <th>max</th>\n",
       "      <td>3.031517e+09</td>\n",
       "      <td>3.072470e+09</td>\n",
       "      <td>3.126894e+09</td>\n",
       "      <td>3.193470e+09</td>\n",
       "      <td>3.260480e+09</td>\n",
       "      <td>3.328243e+09</td>\n",
       "      <td>3.398510e+09</td>\n",
       "      <td>3.468395e+09</td>\n",
       "      <td>3.540186e+09</td>\n",
       "      <td>3.614593e+09</td>\n",
       "      <td>...</td>\n",
       "      <td>7.317305e+09</td>\n",
       "      <td>7.404251e+09</td>\n",
       "      <td>7.490956e+09</td>\n",
       "      <td>7.577110e+09</td>\n",
       "      <td>7.661178e+09</td>\n",
       "      <td>7.742725e+09</td>\n",
       "      <td>7.821272e+09</td>\n",
       "      <td>7.888964e+09</td>\n",
       "      <td>7.951595e+09</td>\n",
       "      <td>8.024997e+09</td>\n",
       "    </tr>\n",
       "  </tbody>\n",
       "</table>\n",
       "<p>8 rows × 64 columns</p>\n",
       "</div>"
      ],
      "text/plain": [
       "               1960          1961          1962          1963          1964  \\\n",
       "count  2.660000e+02  2.660000e+02  2.660000e+02  2.660000e+02  2.660000e+02   \n",
       "mean   1.157939e+08  1.173869e+08  1.195401e+08  1.222050e+08  1.248922e+08   \n",
       "std    3.626158e+08  3.670741e+08  3.736867e+08  3.822667e+08  3.908879e+08   \n",
       "min    2.646000e+03  2.888000e+03  3.171000e+03  3.481000e+03  3.811000e+03   \n",
       "25%    5.191432e+05  5.299130e+05  5.416058e+05  5.539315e+05  5.669115e+05   \n",
       "50%    3.757486e+06  3.887144e+06  4.023896e+06  4.139356e+06  4.224612e+06   \n",
       "75%    2.739186e+07  2.812822e+07  2.889649e+07  2.968239e+07  3.046628e+07   \n",
       "max    3.031517e+09  3.072470e+09  3.126894e+09  3.193470e+09  3.260480e+09   \n",
       "\n",
       "               1965          1966          1967          1968          1969  \\\n",
       "count  2.660000e+02  2.660000e+02  2.660000e+02  2.660000e+02  2.660000e+02   \n",
       "mean   1.276182e+08  1.304676e+08  1.333152e+08  1.362430e+08  1.392759e+08   \n",
       "std    3.996389e+08  4.088811e+08  4.180804e+08  4.275652e+08  4.374397e+08   \n",
       "min    4.161000e+03  4.531000e+03  4.930000e+03  5.354000e+03  5.646000e+03   \n",
       "25%    5.726408e+05  5.714950e+05  5.893528e+05  5.957192e+05  6.001152e+05   \n",
       "50%    4.277636e+06  4.331825e+06  4.385700e+06  4.450934e+06  4.530800e+06   \n",
       "75%    3.126597e+07  3.183307e+07  3.261431e+07  3.318176e+07  3.385723e+07   \n",
       "max    3.328243e+09  3.398510e+09  3.468395e+09  3.540186e+09  3.614593e+09   \n",
       "\n",
       "       ...          2014          2015          2016          2017  \\\n",
       "count  ...  2.660000e+02  2.660000e+02  2.660000e+02  2.660000e+02   \n",
       "mean   ...  2.948007e+08  2.986442e+08  3.024871e+08  3.063370e+08   \n",
       "std    ...  9.206794e+08  9.318842e+08  9.430238e+08  9.541749e+08   \n",
       "min    ...  1.089900e+04  1.087700e+04  1.085200e+04  1.082800e+04   \n",
       "25%    ...  1.760674e+06  1.788377e+06  1.791806e+06  1.813209e+06   \n",
       "50%    ...  1.034159e+07  1.038195e+07  1.042652e+07  1.044737e+07   \n",
       "75%    ...  6.364901e+07  6.401981e+07  6.436557e+07  6.467832e+07   \n",
       "max    ...  7.317305e+09  7.404251e+09  7.490956e+09  7.577110e+09   \n",
       "\n",
       "               2018          2019          2020          2021          2022  \\\n",
       "count  2.660000e+02  2.660000e+02  2.660000e+02  2.660000e+02  2.660000e+02   \n",
       "mean   3.101259e+08  3.138348e+08  3.174293e+08  3.206783e+08  3.236218e+08   \n",
       "std    9.650391e+08  9.755744e+08  9.856487e+08  9.946862e+08  1.002577e+09   \n",
       "min    1.086500e+04  1.095600e+04  1.106900e+04  1.120400e+04  1.131200e+04   \n",
       "25%    1.820076e+06  1.810724e+06  1.806631e+06  1.798807e+06  1.783992e+06   \n",
       "50%    1.042760e+07  1.055977e+07  1.065204e+07  1.053749e+07  1.057953e+07   \n",
       "75%    6.495070e+07  6.509539e+07  6.573706e+07  6.616680e+07  6.721769e+07   \n",
       "max    7.661178e+09  7.742725e+09  7.821272e+09  7.888964e+09  7.951595e+09   \n",
       "\n",
       "               2023  \n",
       "count  2.660000e+02  \n",
       "mean   3.269710e+08  \n",
       "std    1.011555e+09  \n",
       "min    1.139600e+04  \n",
       "25%    1.770276e+06  \n",
       "50%    1.073374e+07  \n",
       "75%    6.798720e+07  \n",
       "max    8.024997e+09  \n",
       "\n",
       "[8 rows x 64 columns]"
      ]
     },
     "execution_count": 244,
     "metadata": {},
     "output_type": "execute_result"
    }
   ],
   "source": [
    "df.describe()"
   ]
  },
  {
   "cell_type": "markdown",
   "id": "b550705b-4881-42d9-a840-debadbb9da63",
   "metadata": {},
   "source": [
    "## Checking for missing values"
   ]
  },
  {
   "cell_type": "code",
   "execution_count": 159,
   "id": "1f9291e1-f611-4735-8ef7-b4dd386706fa",
   "metadata": {},
   "outputs": [
    {
     "name": "stdout",
     "output_type": "stream",
     "text": [
      "Country Name      0\n",
      "Country Code      0\n",
      "Indicator Name    0\n",
      "Indicator Code    0\n",
      "1960              0\n",
      "                 ..\n",
      "2019              0\n",
      "2020              0\n",
      "2021              0\n",
      "2022              0\n",
      "2023              0\n",
      "Length: 68, dtype: int64\n"
     ]
    }
   ],
   "source": [
    "missing_values = df.isna().sum()\n",
    "print(missing_values)"
   ]
  },
  {
   "cell_type": "markdown",
   "id": "b935ab1e-d999-4dae-8c0e-ef83d708c4be",
   "metadata": {},
   "source": [
    "## Checking unique values for columns"
   ]
  },
  {
   "cell_type": "code",
   "execution_count": 105,
   "id": "6c9b9b50-34cf-4e2b-9089-6da078cb9cf6",
   "metadata": {},
   "outputs": [
    {
     "name": "stdout",
     "output_type": "stream",
     "text": [
      "['Aruba' 'Africa Eastern and Southern' 'Afghanistan'\n",
      " 'Africa Western and Central' 'Angola' 'Albania' 'Andorra' 'Arab World'\n",
      " 'United Arab Emirates' 'Argentina' 'Armenia' 'American Samoa'\n",
      " 'Antigua and Barbuda' 'Australia' 'Austria' 'Azerbaijan' 'Burundi'\n",
      " 'Belgium' 'Benin' 'Burkina Faso' 'Bangladesh' 'Bulgaria' 'Bahrain'\n",
      " 'Bahamas, The' 'Bosnia and Herzegovina' 'Belarus' 'Belize' 'Bermuda'\n",
      " 'Bolivia' 'Brazil' 'Barbados' 'Brunei Darussalam' 'Bhutan' 'Botswana'\n",
      " 'Central African Republic' 'Canada' 'Central Europe and the Baltics'\n",
      " 'Switzerland' 'Channel Islands' 'Chile' 'China' \"Cote d'Ivoire\"\n",
      " 'Cameroon' 'Congo, Dem. Rep.' 'Congo, Rep.' 'Colombia' 'Comoros'\n",
      " 'Cabo Verde' 'Costa Rica' 'Caribbean small states' 'Cuba' 'Curacao'\n",
      " 'Cayman Islands' 'Cyprus' 'Czechia' 'Germany' 'Djibouti' 'Dominica'\n",
      " 'Denmark' 'Dominican Republic' 'Algeria'\n",
      " 'East Asia & Pacific (excluding high income)'\n",
      " 'Early-demographic dividend' 'East Asia & Pacific'\n",
      " 'Europe & Central Asia (excluding high income)' 'Europe & Central Asia'\n",
      " 'Ecuador' 'Egypt, Arab Rep.' 'Euro area' 'Eritrea' 'Spain' 'Estonia'\n",
      " 'Ethiopia' 'European Union' 'Fragile and conflict affected situations'\n",
      " 'Finland' 'Fiji' 'France' 'Faroe Islands' 'Micronesia, Fed. Sts.' 'Gabon'\n",
      " 'United Kingdom' 'Georgia' 'Ghana' 'Gibraltar' 'Guinea' 'Gambia, The'\n",
      " 'Guinea-Bissau' 'Equatorial Guinea' 'Greece' 'Grenada' 'Greenland'\n",
      " 'Guatemala' 'Guam' 'Guyana' 'High income' 'Hong Kong SAR, China'\n",
      " 'Honduras' 'Heavily indebted poor countries (HIPC)' 'Croatia' 'Haiti'\n",
      " 'Hungary' 'IBRD only' 'IDA & IBRD total' 'IDA total' 'IDA blend'\n",
      " 'Indonesia' 'IDA only' 'Isle of Man' 'India' 'Not classified' 'Ireland'\n",
      " 'Iran, Islamic Rep.' 'Iraq' 'Iceland' 'Israel' 'Italy' 'Jamaica' 'Jordan'\n",
      " 'Japan' 'Kazakhstan' 'Kenya' 'Kyrgyz Republic' 'Cambodia' 'Kiribati'\n",
      " 'St. Kitts and Nevis' 'Korea, Rep.' 'Kuwait'\n",
      " 'Latin America & Caribbean (excluding high income)' 'Lao PDR' 'Lebanon'\n",
      " 'Liberia' 'Libya' 'St. Lucia' 'Latin America & Caribbean'\n",
      " 'Least developed countries: UN classification' 'Low income'\n",
      " 'Liechtenstein' 'Sri Lanka' 'Lower middle income' 'Low & middle income'\n",
      " 'Lesotho' 'Late-demographic dividend' 'Lithuania' 'Luxembourg' 'Latvia'\n",
      " 'Macao SAR, China' 'St. Martin (French part)' 'Morocco' 'Monaco'\n",
      " 'Moldova' 'Madagascar' 'Maldives' 'Middle East & North Africa' 'Mexico'\n",
      " 'Marshall Islands' 'Middle income' 'North Macedonia' 'Mali' 'Malta'\n",
      " 'Myanmar' 'Middle East & North Africa (excluding high income)'\n",
      " 'Montenegro' 'Mongolia' 'Northern Mariana Islands' 'Mozambique'\n",
      " 'Mauritania' 'Mauritius' 'Malawi' 'Malaysia' 'North America' 'Namibia'\n",
      " 'New Caledonia' 'Niger' 'Nigeria' 'Nicaragua' 'Netherlands' 'Norway'\n",
      " 'Nepal' 'Nauru' 'New Zealand' 'OECD members' 'Oman' 'Other small states'\n",
      " 'Pakistan' 'Panama' 'Peru' 'Philippines' 'Palau' 'Papua New Guinea'\n",
      " 'Poland' 'Pre-demographic dividend' 'Puerto Rico'\n",
      " \"Korea, Dem. People's Rep.\" 'Portugal' 'Paraguay' 'West Bank and Gaza'\n",
      " 'Pacific island small states' 'Post-demographic dividend'\n",
      " 'French Polynesia' 'Qatar' 'Romania' 'Russian Federation' 'Rwanda'\n",
      " 'South Asia' 'Saudi Arabia' 'Sudan' 'Senegal' 'Singapore'\n",
      " 'Solomon Islands' 'Sierra Leone' 'El Salvador' 'San Marino' 'Somalia'\n",
      " 'Serbia' 'Sub-Saharan Africa (excluding high income)' 'South Sudan'\n",
      " 'Sub-Saharan Africa' 'Small states' 'Sao Tome and Principe' 'Suriname'\n",
      " 'Slovak Republic' 'Slovenia' 'Sweden' 'Eswatini'\n",
      " 'Sint Maarten (Dutch part)' 'Seychelles' 'Syrian Arab Republic'\n",
      " 'Turks and Caicos Islands' 'Chad'\n",
      " 'East Asia & Pacific (IDA & IBRD countries)'\n",
      " 'Europe & Central Asia (IDA & IBRD countries)' 'Togo' 'Thailand'\n",
      " 'Tajikistan' 'Turkmenistan'\n",
      " 'Latin America & the Caribbean (IDA & IBRD countries)' 'Timor-Leste'\n",
      " 'Middle East & North Africa (IDA & IBRD countries)' 'Tonga'\n",
      " 'South Asia (IDA & IBRD)' 'Sub-Saharan Africa (IDA & IBRD countries)'\n",
      " 'Trinidad and Tobago' 'Tunisia' 'Turkiye' 'Tuvalu' 'Tanzania' 'Uganda'\n",
      " 'Ukraine' 'Upper middle income' 'Uruguay' 'United States' 'Uzbekistan'\n",
      " 'St. Vincent and the Grenadines' 'Venezuela, RB' 'British Virgin Islands'\n",
      " 'Virgin Islands (U.S.)' 'Viet Nam' 'Vanuatu' 'World' 'Samoa' 'Kosovo'\n",
      " 'Yemen, Rep.' 'South Africa' 'Zambia' 'Zimbabwe']\n",
      "\n",
      " Total no of unique countries: 266\n"
     ]
    }
   ],
   "source": [
    "print(df['Country Name'].unique())\n",
    "print(\"\\n Total no of unique countries:\",df['Country Name'].nunique())"
   ]
  },
  {
   "cell_type": "code",
   "execution_count": 161,
   "id": "9a1afb3c-e87b-4daf-863b-2d5ddd49e540",
   "metadata": {},
   "outputs": [
    {
     "name": "stdout",
     "output_type": "stream",
     "text": [
      "['ABW' 'AFE' 'AFG' 'AFW' 'AGO' 'ALB' 'AND' 'ARB' 'ARE' 'ARG' 'ARM' 'ASM'\n",
      " 'ATG' 'AUS' 'AUT' 'AZE' 'BDI' 'BEL' 'BEN' 'BFA' 'BGD' 'BGR' 'BHR' 'BHS'\n",
      " 'BIH' 'BLR' 'BLZ' 'BMU' 'BOL' 'BRA' 'BRB' 'BRN' 'BTN' 'BWA' 'CAF' 'CAN'\n",
      " 'CEB' 'CHE' 'CHI' 'CHL' 'CHN' 'CIV' 'CMR' 'COD' 'COG' 'COL' 'COM' 'CPV'\n",
      " 'CRI' 'CSS' 'CUB' 'CUW' 'CYM' 'CYP' 'CZE' 'DEU' 'DJI' 'DMA' 'DNK' 'DOM'\n",
      " 'DZA' 'EAP' 'EAR' 'EAS' 'ECA' 'ECS' 'ECU' 'EGY' 'EMU' 'ERI' 'ESP' 'EST'\n",
      " 'ETH' 'EUU' 'FCS' 'FIN' 'FJI' 'FRA' 'FRO' 'FSM' 'GAB' 'GBR' 'GEO' 'GHA'\n",
      " 'GIB' 'GIN' 'GMB' 'GNB' 'GNQ' 'GRC' 'GRD' 'GRL' 'GTM' 'GUM' 'GUY' 'HIC'\n",
      " 'HKG' 'HND' 'HPC' 'HRV' 'HTI' 'HUN' 'IBD' 'IBT' 'IDA' 'IDB' 'IDN' 'IDX'\n",
      " 'IMN' 'IND' 'INX' 'IRL' 'IRN' 'IRQ' 'ISL' 'ISR' 'ITA' 'JAM' 'JOR' 'JPN'\n",
      " 'KAZ' 'KEN' 'KGZ' 'KHM' 'KIR' 'KNA' 'KOR' 'KWT' 'LAC' 'LAO' 'LBN' 'LBR'\n",
      " 'LBY' 'LCA' 'LCN' 'LDC' 'LIC' 'LIE' 'LKA' 'LMC' 'LMY' 'LSO' 'LTE' 'LTU'\n",
      " 'LUX' 'LVA' 'MAC' 'MAF' 'MAR' 'MCO' 'MDA' 'MDG' 'MDV' 'MEA' 'MEX' 'MHL'\n",
      " 'MIC' 'MKD' 'MLI' 'MLT' 'MMR' 'MNA' 'MNE' 'MNG' 'MNP' 'MOZ' 'MRT' 'MUS'\n",
      " 'MWI' 'MYS' 'NAC' 'NAM' 'NCL' 'NER' 'NGA' 'NIC' 'NLD' 'NOR' 'NPL' 'NRU'\n",
      " 'NZL' 'OED' 'OMN' 'OSS' 'PAK' 'PAN' 'PER' 'PHL' 'PLW' 'PNG' 'POL' 'PRE'\n",
      " 'PRI' 'PRK' 'PRT' 'PRY' 'PSE' 'PSS' 'PST' 'PYF' 'QAT' 'ROU' 'RUS' 'RWA'\n",
      " 'SAS' 'SAU' 'SDN' 'SEN' 'SGP' 'SLB' 'SLE' 'SLV' 'SMR' 'SOM' 'SRB' 'SSA'\n",
      " 'SSD' 'SSF' 'SST' 'STP' 'SUR' 'SVK' 'SVN' 'SWE' 'SWZ' 'SXM' 'SYC' 'SYR'\n",
      " 'TCA' 'TCD' 'TEA' 'TEC' 'TGO' 'THA' 'TJK' 'TKM' 'TLA' 'TLS' 'TMN' 'TON'\n",
      " 'TSA' 'TSS' 'TTO' 'TUN' 'TUR' 'TUV' 'TZA' 'UGA' 'UKR' 'UMC' 'URY' 'USA'\n",
      " 'UZB' 'VCT' 'VEN' 'VGB' 'VIR' 'VNM' 'VUT' 'WLD' 'WSM' 'XKX' 'YEM' 'ZAF'\n",
      " 'ZMB' 'ZWE']\n",
      "\n",
      " Total no of unique country code: 266\n"
     ]
    }
   ],
   "source": [
    "print(df['Country Code'].unique())\n",
    "print(\"\\n Total no of unique country code:\",df['Country Code'].nunique())"
   ]
  },
  {
   "cell_type": "code",
   "execution_count": 163,
   "id": "b8c97bf1-0961-406f-962b-ec54009308cf",
   "metadata": {},
   "outputs": [],
   "source": [
    "df.drop(['Indicator Name','Country Name'],axis=1,inplace=True)"
   ]
  },
  {
   "cell_type": "markdown",
   "id": "61780fad-e63c-41af-bbaa-bd8e36f2bb05",
   "metadata": {},
   "source": [
    "## Extarction of top 10 countries with respect to total population"
   ]
  },
  {
   "cell_type": "code",
   "execution_count": 169,
   "id": "e6985947-8a47-4f95-b157-add0dfe925b0",
   "metadata": {},
   "outputs": [
    {
     "name": "stdout",
     "output_type": "stream",
     "text": [
      "Top ten countries of total population\n",
      "\n",
      "    Country Code\n",
      "259          WLD\n",
      "103          IBT\n",
      "140          LMY\n",
      "156          MIC\n",
      "102          IBD\n",
      "62           EAR\n",
      "139          LMC\n",
      "249          UMC\n",
      "63           EAS\n",
      "142          LTE\n"
     ]
    }
   ],
   "source": [
    "\n",
    "total_population_data = df[df['Indicator Code'] == 'SP.POP.TOTL']\n",
    "\n",
    "# Sort data based on the total population for 2022\n",
    "total_population_sorted = total_population_data.sort_values(by=\"2022\", ascending=False)\n",
    "\n",
    "# Get the top ten countries with the highest total population for 2022\n",
    "total_top_ten_countries = total_population_sorted.head(10)\n",
    "print(\"Top ten countries of total population\\n\")\n",
    "print(total_top_ten_countries[['Country Code']])"
   ]
  },
  {
   "cell_type": "markdown",
   "id": "23cd4a42-8821-4210-aad2-c6716dcef850",
   "metadata": {},
   "source": [
    "## Bar plot"
   ]
  },
  {
   "cell_type": "markdown",
   "id": "f14860bf-6046-4f5c-942e-e59d435ef92a",
   "metadata": {},
   "source": [
    "## Top ten countries of total population in year 2022 and 2016"
   ]
  },
  {
   "cell_type": "code",
   "execution_count": 179,
   "id": "5ffe0124-8e71-4a9e-b992-3551eedd18de",
   "metadata": {},
   "outputs": [
    {
     "name": "stderr",
     "output_type": "stream",
     "text": [
      "C:\\Users\\k\\AppData\\Local\\Temp\\ipykernel_9256\\2254819274.py:5: FutureWarning: \n",
      "\n",
      "Passing `palette` without assigning `hue` is deprecated and will be removed in v0.14.0. Assign the `y` variable to `hue` and set `legend=False` for the same effect.\n",
      "\n",
      "  sns.barplot(x=\"2022\", y=\"Country Code\", data=total_top_ten_countries, palette=custom_colors)\n"
     ]
    },
    {
     "data": {
      "image/png": "[encoded data removed]",
      "text/plain": [
       "<Figure size 1500x600 with 1 Axes>"
      ]
     },
     "metadata": {},
     "output_type": "display_data"
    }
   ],
   "source": [
    "# Create the bar plot\n",
    "plt.figure(figsize=(15, 6))\n",
    "plt.subplot(2,2,1)\n",
    "custom_colors = [\"#FF9999\", \"#66B3FF\", \"#99FF99\", \"#FFCC99\", \"#FFD700\", \"#FF69B4\", \"#8A2BE2\", \"#00FA9A\", \"#FF4500\", \"#DA70D6\"]\n",
    "sns.barplot(x=\"2022\", y=\"Country Code\", data=total_top_ten_countries, palette=custom_colors)\n",
    "plt.title(\"Top Ten Countries of Total Population (2022)\", fontsize=10)\n",
    "plt.xlabel(\"Total Population\", fontsize=10)\n",
    "plt.ylabel(\"Country\", fontsize=10)\n",
    "plt.show()"
   ]
  },
  {
   "cell_type": "code",
   "execution_count": 185,
   "id": "ae62bbd3-5b2b-4ef0-ac69-dd372b6e2afa",
   "metadata": {},
   "outputs": [
    {
     "name": "stderr",
     "output_type": "stream",
     "text": [
      "C:\\Users\\k\\AppData\\Local\\Temp\\ipykernel_9256\\1391114256.py:3: FutureWarning: \n",
      "\n",
      "Passing `palette` without assigning `hue` is deprecated and will be removed in v0.14.0. Assign the `y` variable to `hue` and set `legend=False` for the same effect.\n",
      "\n",
      "  sns.barplot(x=\"2016\", y=\"Country Code\", data=total_top_ten_countries, palette=\"pastel\")\n"
     ]
    },
    {
     "data": {
      "image/png": "[encoded data removed]",
      "text/plain": [
       "<Figure size 1500x600 with 1 Axes>"
      ]
     },
     "metadata": {},
     "output_type": "display_data"
    }
   ],
   "source": [
    "plt.figure(figsize=(15, 6))\n",
    "plt.subplot(2,2,2)\n",
    "sns.barplot(x=\"2016\", y=\"Country Code\", data=total_top_ten_countries, palette=\"pastel\")\n",
    "plt.title(\"Top Ten Countries of Total Population (2016)\",fontsize=10)\n",
    "plt.xlabel(\"Total Population\",fontsize=10)\n",
    "plt.ylabel(\"Country\",fontsize=10)\n",
    "plt.show()"
   ]
  },
  {
   "cell_type": "code",
   "execution_count": 187,
   "id": "89ae2748-4378-4cbf-bef1-52602b7990d7",
   "metadata": {},
   "outputs": [
    {
     "name": "stdout",
     "output_type": "stream",
     "text": [
      "Bottom ten countries of total population\n",
      "\n",
      "    Country Code\n",
      "245          TUV\n",
      "179          NRU\n",
      "188          PLW\n",
      "255          VGB\n",
      "147          MAF\n",
      "84           GIB\n",
      "212          SMR\n",
      "149          MCO\n",
      "137          LIE\n",
      "225          SXM\n"
     ]
    }
   ],
   "source": [
    "# Sort data based on the total population for 2022\n",
    "total_population_sorted1 = total_population_data.sort_values(by=\"2022\", ascending=True)\n",
    "\n",
    "# Get the top ten countries with the highest total population for 2022\n",
    "total_bottom_ten_countries = total_population_sorted1.head(10)\n",
    "print(\"Bottom ten countries of total population\\n\")\n",
    "print(total_bottom_ten_countries[['Country Code']])"
   ]
  },
  {
   "cell_type": "markdown",
   "id": "4a958710-6853-4b80-ad52-1bcaca3220b1",
   "metadata": {},
   "source": [
    "## Extarction of top 10 countries with respect to total population"
   ]
  },
  {
   "cell_type": "code",
   "execution_count": 189,
   "id": "1364d1b8-531f-48af-8735-1c6e861e4370",
   "metadata": {},
   "outputs": [
    {
     "name": "stderr",
     "output_type": "stream",
     "text": [
      "C:\\Users\\k\\AppData\\Local\\Temp\\ipykernel_9256\\1344369931.py:4: FutureWarning: \n",
      "\n",
      "Passing `palette` without assigning `hue` is deprecated and will be removed in v0.14.0. Assign the `y` variable to `hue` and set `legend=False` for the same effect.\n",
      "\n",
      "  sns.barplot(x=\"2022\", y=\"Country Code\", data=total_bottom_ten_countries, palette=\"coolwarm\")\n"
     ]
    },
    {
     "data": {
      "image/png": "[encoded data removed]",
      "text/plain": [
       "<Figure size 1500x600 with 1 Axes>"
      ]
     },
     "metadata": {},
     "output_type": "display_data"
    },
    {
     "name": "stderr",
     "output_type": "stream",
     "text": [
      "C:\\Users\\k\\AppData\\Local\\Temp\\ipykernel_9256\\1344369931.py:13: FutureWarning: \n",
      "\n",
      "Passing `palette` without assigning `hue` is deprecated and will be removed in v0.14.0. Assign the `y` variable to `hue` and set `legend=False` for the same effect.\n",
      "\n",
      "  sns.barplot(x=\"2016\", y=\"Country Code\", data=total_bottom_ten_countries, palette=\"coolwarm\")\n"
     ]
    },
    {
     "data": {
      "image/png": "[encoded data removed]",
      "text/plain": [
       "<Figure size 1500x600 with 1 Axes>"
      ]
     },
     "metadata": {},
     "output_type": "display_data"
    }
   ],
   "source": [
    "# Create the bar plot\n",
    "plt.figure(figsize=(15, 6))\n",
    "plt.subplot(2,2,1)\n",
    "sns.barplot(x=\"2022\", y=\"Country Code\", data=total_bottom_ten_countries, palette=\"coolwarm\")\n",
    "plt.title(\"Bottom Ten Countries of Total Population (2022)\",fontsize=10)\n",
    "plt.xlabel(\"Total Population\",fontsize=10)\n",
    "plt.ylabel(\"Country\",fontsize=10)\n",
    "plt.show()\n",
    "\n",
    "# Create the bar plot\n",
    "plt.figure(figsize=(15, 6))\n",
    "plt.subplot(2,2,2)\n",
    "sns.barplot(x=\"2016\", y=\"Country Code\", data=total_bottom_ten_countries, palette=\"coolwarm\")\n",
    "plt.title(\"Bottom Ten Countries of Total Population (2016)\",fontsize=10)\n",
    "plt.xlabel(\"Total Population\",fontsize=10)\n",
    "plt.ylabel(\"Country\",fontsize=10)\n",
    "plt.show()"
   ]
  },
  {
   "cell_type": "code",
   "execution_count": 195,
   "id": "c3ab965e-27ba-4561-a84a-a74f2300009e",
   "metadata": {},
   "outputs": [
    {
     "name": "stdout",
     "output_type": "stream",
     "text": [
      "Top ten countries of male population\n",
      "Empty DataFrame\n",
      "Columns: [Country Code]\n",
      "Index: []\n"
     ]
    }
   ],
   "source": [
    "#filter data for male population\n",
    "male_population_data = df[df['Indicator Code']=='SP.POP.TOTL.MA.IN']\n",
    "\n",
    "#sort data based on the male population for 2022\n",
    "male_population_sorted =male_population_data.sort_values(by=\"2022\",ascending=False)\n",
    "\n",
    "#Get the top 10 countries with the highest male population for 2022\n",
    "male_top_ten_countries = male_population_sorted .head(10)\n",
    "print(\"Top ten countries of male population\")\n",
    "print(male_top_ten_countries[['Country Code']])"
   ]
  },
  {
   "cell_type": "code",
   "execution_count": 197,
   "id": "aefa1a6c-77ca-4f98-a4da-bb81e641cfdd",
   "metadata": {},
   "outputs": [
    {
     "name": "stdout",
     "output_type": "stream",
     "text": [
      "Top ten countries of female population\n",
      "Empty DataFrame\n",
      "Columns: [Country Code]\n",
      "Index: []\n"
     ]
    }
   ],
   "source": [
    "#filter data for male population\n",
    "female_population_data = df[df['Indicator Code']=='SP.POP.TOTL.FE.IN']\n",
    "\n",
    "#sort data based on the male population for 2022\n",
    "female_population_sorted =female_population_data.sort_values(by=\"2022\",ascending=False)\n",
    "\n",
    "#Get the top 10 countries with the highest male population for 2022\n",
    "female_top_ten_countries = female_population_sorted .head(10)\n",
    "print(\"Top ten countries of female population\")\n",
    "print(female_top_ten_countries[['Country Code']])"
   ]
  },
  {
   "cell_type": "code",
   "execution_count": 209,
   "id": "7548cfb8-1ebd-4954-8af7-c3d20b1a8e1f",
   "metadata": {},
   "outputs": [
    {
     "data": {
      "image/png": "[encoded data removed]",
      "text/plain": [
       "<Figure size 1500x600 with 1 Axes>"
      ]
     },
     "metadata": {},
     "output_type": "display_data"
    }
   ],
   "source": [
    "# Create the bar plot\n",
    "plt.figure(figsize=(15, 6))\n",
    "plt.subplot(2,2,1)\n",
    "sns.barplot(x=\"2022\", y=\"Country Code\", data=male_top_ten_countries, palette=\"viridis\")\n",
    "plt.title(\"Top ten countries of male population(2022)\",fontsize=10)\n",
    "plt.xlabel(\"Male Population\",fontsize=10)\n",
    "plt.ylabel(\"Country\",fontsize=10)\n",
    "plt.show()"
   ]
  },
  {
   "cell_type": "code",
   "execution_count": 211,
   "id": "fc93d770-c214-4dd6-9960-83a2f4b039b4",
   "metadata": {},
   "outputs": [
    {
     "data": {
      "image/png": "[encoded data removed]",
      "text/plain": [
       "<Figure size 1500x600 with 1 Axes>"
      ]
     },
     "metadata": {},
     "output_type": "display_data"
    }
   ],
   "source": [
    "# Create the bar plot\n",
    "plt.figure(figsize=(15, 6))\n",
    "plt.subplot(2,2,2)\n",
    "sns.barplot(x=\"2016\", y=\"Country Code\", data=female_top_ten_countries, palette=\"viridis\")\n",
    "plt.title(\"Top ten conuntries of female population(2022)\",fontsize=10)\n",
    "plt.xlabel(\"Female Population\",fontsize=10)\n",
    "plt.ylabel(\"Country\",fontsize=10)\n",
    "plt.show()"
   ]
  },
  {
   "cell_type": "code",
   "execution_count": 213,
   "id": "41710cba-ec1d-4b7d-9154-1e0fd44c8745",
   "metadata": {},
   "outputs": [],
   "source": [
    "#merge male and female population data on 'Country Code'\n",
    "merge_data=pd.merge(male_population_data,female_population_data,on=\"Country Code\",suffixes=(\"_male\",\"_female\"))"
   ]
  },
  {
   "cell_type": "code",
   "execution_count": 227,
   "id": "19c43328-b42b-4f12-b665-e397508c092b",
   "metadata": {},
   "outputs": [],
   "source": [
    "#merged data\n",
    "#calculate the total population for each country (male + female)\n",
    "merge_data[\"Total population\"] = merge_data[\"2022_male\"] + merge_data [\"2022_female\"]"
   ]
  },
  {
   "cell_type": "code",
   "execution_count": 217,
   "id": "d59997f0-d10d-46c1-95b0-ce687293b8b9",
   "metadata": {},
   "outputs": [
    {
     "data": {
      "text/html": [
       "<div>\n",
       "<style scoped>\n",
       "    .dataframe tbody tr th:only-of-type {\n",
       "        vertical-align: middle;\n",
       "    }\n",
       "\n",
       "    .dataframe tbody tr th {\n",
       "        vertical-align: top;\n",
       "    }\n",
       "\n",
       "    .dataframe thead th {\n",
       "        text-align: right;\n",
       "    }\n",
       "</style>\n",
       "<table border=\"1\" class=\"dataframe\">\n",
       "  <thead>\n",
       "    <tr style=\"text-align: right;\">\n",
       "      <th></th>\n",
       "      <th>Country Code</th>\n",
       "      <th>Indicator Code_male</th>\n",
       "      <th>1960_male</th>\n",
       "      <th>1961_male</th>\n",
       "      <th>1962_male</th>\n",
       "      <th>1963_male</th>\n",
       "      <th>1964_male</th>\n",
       "      <th>1965_male</th>\n",
       "      <th>1966_male</th>\n",
       "      <th>1967_male</th>\n",
       "      <th>...</th>\n",
       "      <th>2015_female</th>\n",
       "      <th>2016_female</th>\n",
       "      <th>2017_female</th>\n",
       "      <th>2018_female</th>\n",
       "      <th>2019_female</th>\n",
       "      <th>2020_female</th>\n",
       "      <th>2021_female</th>\n",
       "      <th>2022_female</th>\n",
       "      <th>2023_female</th>\n",
       "      <th>Total population</th>\n",
       "    </tr>\n",
       "  </thead>\n",
       "  <tbody>\n",
       "  </tbody>\n",
       "</table>\n",
       "<p>0 rows × 132 columns</p>\n",
       "</div>"
      ],
      "text/plain": [
       "Empty DataFrame\n",
       "Columns: [Country Code, Indicator Code_male, 1960_male, 1961_male, 1962_male, 1963_male, 1964_male, 1965_male, 1966_male, 1967_male, 1968_male, 1969_male, 1970_male, 1971_male, 1972_male, 1973_male, 1974_male, 1975_male, 1976_male, 1977_male, 1978_male, 1979_male, 1980_male, 1981_male, 1982_male, 1983_male, 1984_male, 1985_male, 1986_male, 1987_male, 1988_male, 1989_male, 1990_male, 1991_male, 1992_male, 1993_male, 1994_male, 1995_male, 1996_male, 1997_male, 1998_male, 1999_male, 2000_male, 2001_male, 2002_male, 2003_male, 2004_male, 2005_male, 2006_male, 2007_male, 2008_male, 2009_male, 2010_male, 2011_male, 2012_male, 2013_male, 2014_male, 2015_male, 2016_male, 2017_male, 2018_male, 2019_male, 2020_male, 2021_male, 2022_male, 2023_male, Indicator Code_female, 1960_female, 1961_female, 1962_female, 1963_female, 1964_female, 1965_female, 1966_female, 1967_female, 1968_female, 1969_female, 1970_female, 1971_female, 1972_female, 1973_female, 1974_female, 1975_female, 1976_female, 1977_female, 1978_female, 1979_female, 1980_female, 1981_female, 1982_female, 1983_female, 1984_female, 1985_female, 1986_female, 1987_female, 1988_female, 1989_female, 1990_female, 1991_female, 1992_female, ...]\n",
       "Index: []\n",
       "\n",
       "[0 rows x 132 columns]"
      ]
     },
     "execution_count": 217,
     "metadata": {},
     "output_type": "execute_result"
    }
   ],
   "source": [
    "merge_data.head()"
   ]
  },
  {
   "cell_type": "code",
   "execution_count": 219,
   "id": "c301d837-5c5e-4313-a61d-c12786d824cf",
   "metadata": {},
   "outputs": [],
   "source": [
    "#sort data based on total population in descending order\n",
    "sorted_data = merge_data.sort_values(by=\"Total population\", ascending=False)"
   ]
  },
  {
   "cell_type": "code",
   "execution_count": 221,
   "id": "62bac584-18b1-487d-a76b-c190cdf60d3f",
   "metadata": {},
   "outputs": [],
   "source": [
    "top_10_countries = sorted_data.head(10)"
   ]
  },
  {
   "cell_type": "code",
   "execution_count": 223,
   "id": "66ce9953-1e4c-41ff-b159-a958d1b5cdf4",
   "metadata": {},
   "outputs": [
    {
     "name": "stderr",
     "output_type": "stream",
     "text": [
      "C:\\Users\\k\\AppData\\Local\\Temp\\ipykernel_9256\\2042142924.py:7: UserWarning: No artists with labels found to put in legend.  Note that artists whose label start with an underscore are ignored when legend() is called with no argument.\n",
      "  plt.legend()\n"
     ]
    },
    {
     "data": {
      "image/png": "[encoded data removed]",
      "text/plain": [
       "<Figure size 1200x600 with 1 Axes>"
      ]
     },
     "metadata": {},
     "output_type": "display_data"
    }
   ],
   "source": [
    "#create the staked bar plot\n",
    "plt.figure(figsize=(12,6))\n",
    "sns.barplot(x=\"Country Code\",y=\"2022_female\",data=top_10_countries,color=\"red\",label=\"female Population\")\n",
    "sns.barplot(x=\"Country Code\",y=\"2022_male\",data=top_10_countries,bottom=top_10_countries[\"2022_female\"],color=\"green\",label=\"Male Population\")\n",
    "plt.xlabel(\"Country\")\n",
    "plt.ylabel(\"Population\")\n",
    "plt.legend()\n",
    "plt.xticks(rotation=45,ha=\"right\")\n",
    "plt.show()"
   ]
  },
  {
   "cell_type": "code",
   "execution_count": 233,
   "id": "fd136cdc-ea97-40f6-a7ab-a1adcf26d15b",
   "metadata": {},
   "outputs": [],
   "source": [
    "bottom_10_countries = sorted_data.tail(10)"
   ]
  },
  {
   "cell_type": "code",
   "execution_count": 235,
   "id": "82395db8-cce3-41c8-b63a-f58f3e5405b3",
   "metadata": {},
   "outputs": [
    {
     "name": "stderr",
     "output_type": "stream",
     "text": [
      "C:\\Users\\k\\AppData\\Local\\Temp\\ipykernel_9256\\1271384963.py:6: UserWarning: No artists with labels found to put in legend.  Note that artists whose label start with an underscore are ignored when legend() is called with no argument.\n",
      "  plt.legend()\n"
     ]
    },
    {
     "data": {
      "image/png": "[encoded data removed]",
      "text/plain": [
       "<Figure size 1200x600 with 1 Axes>"
      ]
     },
     "metadata": {},
     "output_type": "display_data"
    }
   ],
   "source": [
    "plt.figure(figsize=(12, 6))\n",
    "sns.barplot(x=\"Country Code\", y=\"2022_female\", data=bottom_10_countries, color=\"red\", label=\"Female Population\")\n",
    "sns.barplot(x=\"Country Code\", y=\"2022_male\", data=bottom_10_countries, bottom=bottom_10_countries[\"2022_female\"], color=\"green\", label=\"Male Population\")\n",
    "plt.xlabel(\"Country\")\n",
    "plt.ylabel(\"Population\")\n",
    "plt.legend()\n",
    "plt.xticks(rotation=45, ha=\"right\")\n",
    "plt.show()"
   ]
  },
  {
   "cell_type": "code",
   "execution_count": null,
   "id": "9d0cde70-9248-48c6-97a5-0efcaef00e07",
   "metadata": {},
   "outputs": [],
   "source": []
  }
 ],
 "metadata": {
  "kernelspec": {
   "display_name": "Python 3 (ipykernel)",
   "language": "python",
   "name": "python3"
  },
  "language_info": {
   "codemirror_mode": {
    "name": "ipython",
    "version": 3
   },
   "file_extension": ".py",
   "mimetype": "text/x-python",
   "name": "python",
   "nbconvert_exporter": "python",
   "pygments_lexer": "ipython3",
   "version": "3.12.7"
  }
 },
 "nbformat": 4,
 "nbformat_minor": 5
}
